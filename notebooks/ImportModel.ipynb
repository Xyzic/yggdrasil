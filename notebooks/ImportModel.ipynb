{
 "cells": [
  {
   "cell_type": "code",
   "execution_count": 1,
   "metadata": {},
   "outputs": [],
   "source": [
    "from yggdrasil import import_as_function"
   ]
  },
  {
   "cell_type": "code",
   "execution_count": 2,
   "metadata": {
    "scrolled": true
   },
   "outputs": [
    {
     "name": "stderr",
     "output_type": "stream",
     "text": [
      "INFO:runner.startDrivers[478]:YggRunner(runner): Starting I/O drivers and models on system None in namespace yggdrasil with rank 0\n",
      "INFO:runner.run[327]:YggRunner(runner):                 init\t0.000001\n",
      "INFO:runner.run[327]:YggRunner(runner):         load drivers\t2.768048\n",
      "INFO:runner.run[327]:YggRunner(runner):        start drivers\t0.086836\n",
      "INFO:runner.run[329]:YggRunner(runner): ========================================\n",
      "INFO:runner.run[330]:YggRunner(runner):                Total\t2.854885\n"
     ]
    }
   ],
   "source": [
    "x = import_as_function('/Users/langmm/yggdrasil/yggdrasil/examples/fakeplant/photosynthesis.yml')"
   ]
  },
  {
   "cell_type": "code",
   "execution_count": 3,
   "metadata": {},
   "outputs": [
    {
     "data": {
      "text/plain": [
       "['light_intensity', 'temperature', 'co2']"
      ]
     },
     "execution_count": 3,
     "metadata": {},
     "output_type": "execute_result"
    }
   ],
   "source": [
    "x.arguments"
   ]
  },
  {
   "cell_type": "code",
   "execution_count": 4,
   "metadata": {},
   "outputs": [
    {
     "data": {
      "text/plain": [
       "{'photosynthesis_rate': 1.2}"
      ]
     },
     "execution_count": 4,
     "metadata": {},
     "output_type": "execute_result"
    }
   ],
   "source": [
    "x(light_intensity=1.0, temperature=5, co2=6)"
   ]
  },
  {
   "cell_type": "code",
   "execution_count": 5,
   "metadata": {
    "scrolled": true
   },
   "outputs": [
    {
     "data": {
      "application/vnd.jupyter.widget-view+json": {
       "model_id": "aabaa3026afa4320947cee484b5eaa60",
       "version_major": 2,
       "version_minor": 0
      },
      "text/plain": [
       "interactive(children=(FloatSlider(value=1.0, description='light_intensity', max=3.0, min=-1.0), IntSlider(valu…"
      ]
     },
     "metadata": {},
     "output_type": "display_data"
    },
    {
     "data": {
      "text/plain": [
       "<function ipywidgets.widgets.interaction._InteractFactory.__call__.<locals>.<lambda>(*args, **kwargs)>"
      ]
     },
     "execution_count": 5,
     "metadata": {},
     "output_type": "execute_result"
    }
   ],
   "source": [
    "x.widget(light_intensity=1.0, temperature=5, co2=6)"
   ]
  },
  {
   "cell_type": "code",
   "execution_count": 6,
   "metadata": {},
   "outputs": [
    {
     "name": "stdout",
     "output_type": "stream",
     "text": [
      "photosynthesis: T = 5.000000\n",
      "photosynthesis: CO2 = 6.000000\n",
      "photosynthesis: light intensity = 1.000000 --> photosynthesis rate = 1.200000\n",
      "photosynthesis: No more input.\n"
     ]
    },
    {
     "name": "stderr",
     "output_type": "stream",
     "text": [
      "INFO:runner.waitModels[527]:YggRunner(runner): PhotosynthesisModel finished running.\n",
      "INFO:runner.waitModels[533]:YggRunner(runner): PhotosynthesisModel finished exiting.\n",
      "INFO:runner.waitModels[527]:YggRunner(runner): function_model finished running.\n",
      "INFO:runner.waitModels[533]:YggRunner(runner): function_model finished exiting.\n",
      "INFO:runner.waitModels[546]:YggRunner(runner): All models completed\n"
     ]
    }
   ],
   "source": [
    "x.stop()"
   ]
  }
 ],
 "metadata": {
  "kernelspec": {
   "display_name": "Python 3",
   "language": "python",
   "name": "python3"
  },
  "language_info": {
   "codemirror_mode": {
    "name": "ipython",
    "version": 3
   },
   "file_extension": ".py",
   "mimetype": "text/x-python",
   "name": "python",
   "nbconvert_exporter": "python",
   "pygments_lexer": "ipython3",
   "version": "3.6.7"
  }
 },
 "nbformat": 4,
 "nbformat_minor": 4
}
